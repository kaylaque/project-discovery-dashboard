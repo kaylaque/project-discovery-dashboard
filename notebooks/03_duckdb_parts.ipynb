{
 "cells": [
  {
   "cell_type": "code",
   "execution_count": null,
   "id": "75831c0f-c2d3-41c2-b82f-4bfd6f2b2448",
   "metadata": {},
   "outputs": [],
   "source": [
    "import duckdb\n",
    "import pandas as pd\n",
    "# No need to import duckdb_engine\n",
    "#  jupysql will auto-detect the driver needed based on the connection string!\n",
    "\n",
    "# Import jupysql Jupyter extension to create SQL cells\n",
    "%load_ext sql"
   ]
  },
  {
   "cell_type": "code",
   "execution_count": null,
   "id": "548b372d-b661-4eee-be35-773065feb76e",
   "metadata": {},
   "outputs": [],
   "source": [
    "%config SqlMagic.autopandas = True\n",
    "%config SqlMagic.feedback = False\n",
    "%config SqlMagic.displaycon = False"
   ]
  },
  {
   "cell_type": "code",
   "execution_count": null,
   "id": "cdfe22b4-2c55-4e65-ba15-b60594f4dae3",
   "metadata": {},
   "outputs": [],
   "source": [
    "%sql duckdb:///duckdb.db"
   ]
  },
  {
   "cell_type": "code",
   "execution_count": null,
   "id": "365aa39e-6acc-4d73-86cd-6dd5b1db39dd",
   "metadata": {},
   "outputs": [],
   "source": [
    "%%sql\n",
    "ATTACH '../data/raw/igem_parts_registry.sqlite' (TYPE sqlite);"
   ]
  },
  {
   "cell_type": "code",
   "execution_count": null,
   "id": "50dca728-849b-4168-ae0f-943bef7657c0",
   "metadata": {},
   "outputs": [],
   "source": [
    "%%sql\n",
    "SELECT * FROM duckdb_tables();"
   ]
  },
  {
   "cell_type": "code",
   "execution_count": null,
   "id": "cbb06a3d-6652-4b28-8691-39c32c235276",
   "metadata": {},
   "outputs": [],
   "source": [
    "%%sql\n",
    "df_parts << SELECT * FROM igem_parts_registry.parts;"
   ]
  },
  {
   "cell_type": "code",
   "execution_count": null,
   "id": "c5f9d157-186a-414d-ba57-4e56ad0b0778",
   "metadata": {},
   "outputs": [],
   "source": [
    "query = df_parts[df_parts.m_datetime == \"2023-09-04 08:01:20\"]\n",
    "query"
   ]
  },
  {
   "cell_type": "code",
   "execution_count": null,
   "id": "e64d7f92-b91c-4749-b7e6-eb26c181a227",
   "metadata": {},
   "outputs": [],
   "source": [
    "df_parts.columns"
   ]
  },
  {
   "cell_type": "code",
   "execution_count": null,
   "id": "02c6ea3c-fbb5-4839-9398-854772893799",
   "metadata": {},
   "outputs": [],
   "source": [
    "condition1 = df_parts.part_type == 'Composite'\n",
    "condition2 = df_parts.part_type == 'Composite'"
   ]
  },
  {
   "cell_type": "code",
   "execution_count": null,
   "id": "24d368e1-9cbb-47ed-9874-40e3eaa28385",
   "metadata": {},
   "outputs": [],
   "source": []
  }
 ],
 "metadata": {
  "kernelspec": {
   "display_name": "Python 3 (ipykernel)",
   "language": "python",
   "name": "python3"
  },
  "language_info": {
   "codemirror_mode": {
    "name": "ipython",
    "version": 3
   },
   "file_extension": ".py",
   "mimetype": "text/x-python",
   "name": "python",
   "nbconvert_exporter": "python",
   "pygments_lexer": "ipython3",
   "version": "3.11.6"
  }
 },
 "nbformat": 4,
 "nbformat_minor": 5
}
