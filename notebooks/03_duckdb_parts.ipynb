{
 "cells": [
  {
   "cell_type": "code",
   "execution_count": null,
   "id": "75831c0f-c2d3-41c2-b82f-4bfd6f2b2448",
   "metadata": {},
   "outputs": [],
   "source": [
    "import duckdb\n",
    "import pandas as pd\n",
    "import itertools\n",
    "import networkx as nx\n",
    "import matplotlib.pyplot as plt\n",
    "from pathlib import Path\n",
    "# No need to import duckdb_engine\n",
    "#  jupysql will auto-detect the driver needed based on the connection string!\n",
    "\n",
    "# Import jupysql Jupyter extension to create SQL cells\n",
    "%load_ext sql\n"
   ]
  },
  {
   "cell_type": "code",
   "execution_count": null,
   "id": "548b372d-b661-4eee-be35-773065feb76e",
   "metadata": {},
   "outputs": [],
   "source": [
    "%config SqlMagic.autopandas = True\n",
    "%config SqlMagic.feedback = False\n",
    "%config SqlMagic.displaycon = False"
   ]
  },
  {
   "cell_type": "code",
   "execution_count": null,
   "id": "cdfe22b4-2c55-4e65-ba15-b60594f4dae3",
   "metadata": {},
   "outputs": [],
   "source": [
    "%sql duckdb:///duckdb.db"
   ]
  },
  {
   "cell_type": "code",
   "execution_count": null,
   "id": "365aa39e-6acc-4d73-86cd-6dd5b1db39dd",
   "metadata": {},
   "outputs": [],
   "source": [
    "%%sql\n",
    "ATTACH '../data/raw/igem_parts_registry.sqlite' (TYPE sqlite);"
   ]
  },
  {
   "cell_type": "code",
   "execution_count": null,
   "id": "50dca728-849b-4168-ae0f-943bef7657c0",
   "metadata": {},
   "outputs": [],
   "source": [
    "%%sql\n",
    "SELECT * FROM duckdb_tables();"
   ]
  },
  {
   "cell_type": "code",
   "execution_count": null,
   "id": "cbb06a3d-6652-4b28-8691-39c32c235276",
   "metadata": {},
   "outputs": [],
   "source": [
    "%%sql\n",
    "df_parts << SELECT * FROM igem_parts_registry.parts;"
   ]
  },
  {
   "cell_type": "code",
   "execution_count": null,
   "id": "c5f9d157-186a-414d-ba57-4e56ad0b0778",
   "metadata": {},
   "outputs": [],
   "source": [
    "df_parts = df_parts.set_index(\"part_id\", drop=False)\n",
    "condition1 = df_parts.part_type == 'Composite'\n",
    "condition2 = df_parts.status == 'Available'\n",
    "df_composite = df_parts[condition1 & condition2]\n",
    "df_composite"
   ]
  },
  {
   "cell_type": "code",
   "execution_count": null,
   "id": "24d368e1-9cbb-47ed-9874-40e3eaa28385",
   "metadata": {},
   "outputs": [],
   "source": [
    "# Step 1: Split the strings to get lists of nodes\n",
    "df_parts['nodes'] = df_parts.deep_u_list.apply(lambda x: x.strip('_').split('_'))\n",
    "\n",
    "# Create the edge list by pairing the identifier with each node in the list\n",
    "edge_list = [(str(row['part_id']), str(node)) for _, row in df_parts.iterrows() for node in row['nodes']]\n",
    "\n",
    "df_edge_list_parts = pd.DataFrame(edge_list, columns=[\"source\", \"target\"])\n",
    "df_edge_list_parts[\"relation\"] = \"composed_by\""
   ]
  },
  {
   "cell_type": "code",
   "execution_count": null,
   "id": "01993ed0-3ee2-4810-93d5-2e2d8e072524",
   "metadata": {},
   "outputs": [],
   "source": [
    "# Initialize a undirected graph\n",
    "G = nx.from_pandas_edgelist(df_edge_list_parts, source='source', target='target', edge_attr=[\"relation\"])#, create_using=nx.DiGraph())"
   ]
  },
  {
   "cell_type": "code",
   "execution_count": null,
   "id": "84adb1fa-4ac6-4101-89d8-86f9b864307b",
   "metadata": {},
   "outputs": [],
   "source": [
    "outfile = Path(\"../data/interim/parts_network.graphml\")\n",
    "outfile.parent.mkdir(exist_ok=True, parents=True)\n",
    "nx.write_graphml(G, outfile)"
   ]
  },
  {
   "cell_type": "code",
   "execution_count": null,
   "id": "2d6c613b-0bb1-4956-8068-e8d5fe215e4b",
   "metadata": {},
   "outputs": [],
   "source": [
    "df_edge_list_parts[df_edge_list_parts.target == '57575']"
   ]
  },
  {
   "cell_type": "code",
   "execution_count": null,
   "id": "8b453dca-3296-4c63-a0e9-482d2b34dda6",
   "metadata": {},
   "outputs": [],
   "source": [
    "df_edge_list_parts[df_edge_list_parts.source == 57575]"
   ]
  },
  {
   "cell_type": "code",
   "execution_count": null,
   "id": "d69ddcd6-5152-4a06-b746-18cf63b5f2e5",
   "metadata": {},
   "outputs": [],
   "source": [
    "df_edge_list_parts[df_edge_list_parts.target == '7249']"
   ]
  },
  {
   "cell_type": "code",
   "execution_count": null,
   "id": "b0e6ee17-c899-46c5-bf5d-d92ac6e13a42",
   "metadata": {},
   "outputs": [],
   "source": [
    "df_edge_list_parts[df_edge_list_parts.target == 7249]"
   ]
  }
 ],
 "metadata": {
  "kernelspec": {
   "display_name": "Python 3 (ipykernel)",
   "language": "python",
   "name": "python3"
  },
  "language_info": {
   "codemirror_mode": {
    "name": "ipython",
    "version": 3
   },
   "file_extension": ".py",
   "mimetype": "text/x-python",
   "name": "python",
   "nbconvert_exporter": "python",
   "pygments_lexer": "ipython3",
   "version": "3.11.6"
  }
 },
 "nbformat": 4,
 "nbformat_minor": 5
}
