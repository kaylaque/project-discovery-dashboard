{
 "cells": [
  {
   "cell_type": "markdown",
   "id": "773df965-0bb4-420f-82f1-cfcdf80dfcba",
   "metadata": {},
   "source": [
    "Given a biobrick, return:\n",
    "1. 1st degree parts network\n",
    "2. add network to author --> expand all parts created by the author\n",
    "3. add igem team --> expand all parts created by the igem team"
   ]
  },
  {
   "cell_type": "code",
   "execution_count": null,
   "id": "c1d35afc-9a7d-4984-949f-26914b0b5409",
   "metadata": {},
   "outputs": [],
   "source": [
    "\n",
    "import networkx as nx\n",
    "from pyvis.network import Network\n",
    "from pathlib import Path"
   ]
  },
  {
   "cell_type": "code",
   "execution_count": null,
   "id": "4e1bd292-48b2-4a7e-99af-62f13830f666",
   "metadata": {},
   "outputs": [],
   "source": [
    "import duckdb\n",
    "\n",
    "# convert sqlite to duckdb\n",
    "sqlite_path = \"../data/raw/igem_parts_registry.sqlite\"\n",
    "outfile = Path(\"../data/processed/duck.db\")\n",
    "outfile.parent.mkdir(parents=True, exist_ok=True)\n",
    "with duckdb.connect(str(outfile)) as conn:        \n",
    "    try:\n",
    "        conn.execute(f\"ATTACH '{sqlite_path}' (TYPE sqlite); CREATE OR REPLACE TABLE parts as SELECT * FROM igem_parts_registry.parts\")\n",
    "    except duckdb.duckdb.BinderException:\n",
    "        conn.execute(f\"CREATE OR REPLACE TABLE parts as SELECT * FROM igem_parts_registry.parts\")\n",
    "    conn.commit()\n",
    "    conn.close()"
   ]
  },
  {
   "cell_type": "code",
   "execution_count": null,
   "id": "da0245e8-6cf1-4a4f-9ab7-837fd61371b7",
   "metadata": {},
   "outputs": [],
   "source": []
  }
 ],
 "metadata": {
  "kernelspec": {
   "display_name": "Python 3 (ipykernel)",
   "language": "python",
   "name": "python3"
  },
  "language_info": {
   "codemirror_mode": {
    "name": "ipython",
    "version": 3
   },
   "file_extension": ".py",
   "mimetype": "text/x-python",
   "name": "python",
   "nbconvert_exporter": "python",
   "pygments_lexer": "ipython3",
   "version": "3.11.6"
  }
 },
 "nbformat": 4,
 "nbformat_minor": 5
}
