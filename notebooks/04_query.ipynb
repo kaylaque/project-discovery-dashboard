{
 "cells": [
  {
   "cell_type": "markdown",
   "id": "773df965-0bb4-420f-82f1-cfcdf80dfcba",
   "metadata": {},
   "source": [
    "Given a biobrick, return:\n",
    "1. 1st degree parts network\n",
    "2. add network to author --> expand all parts created by the author\n",
    "3. add igem team --> expand all parts created by the igem team"
   ]
  },
  {
   "cell_type": "code",
   "execution_count": null,
   "id": "c1d35afc-9a7d-4984-949f-26914b0b5409",
   "metadata": {},
   "outputs": [],
   "source": [
    "import duckdb\n",
    "import networkx as nx\n",
    "from pyvis.network import Network\n",
    "from pathlib import Path"
   ]
  },
  {
   "cell_type": "code",
   "execution_count": null,
   "id": "4e1bd292-48b2-4a7e-99af-62f13830f666",
   "metadata": {},
   "outputs": [],
   "source": [
    "# convert sqlite to duckdb\n",
    "sqlite_path = \"../data/raw/igem_parts_registry.sqlite\"\n",
    "outfile = Path(\"../data/processed/duck.db\")\n",
    "outfile.parent.mkdir(parents=True, exist_ok=True)\n",
    "with duckdb.connect(str(outfile)) as conn:        \n",
    "    try:\n",
    "        conn.execute(f\"ATTACH '{sqlite_path}' (TYPE sqlite); CREATE OR REPLACE TABLE parts as SELECT * FROM igem_parts_registry.parts\")\n",
    "    except duckdb.duckdb.BinderException:\n",
    "        conn.execute(f\"CREATE OR REPLACE TABLE parts as SELECT * FROM igem_parts_registry.parts\")\n",
    "    conn.commit()\n",
    "    conn.close()"
   ]
  },
  {
   "cell_type": "code",
   "execution_count": null,
   "id": "da1d90b5-b062-4e79-9995-5923c9c02187",
   "metadata": {},
   "outputs": [],
   "source": [
    "def load_file(db: str = \"duck.db\", sqlite_path: str = \"data/raw/igem_parts_registry.sqlite\", table_name: str = \"igem_parts_registry.parts\"):\n",
    "    with duckdb.connect(db) as conn:\n",
    "        conn.execute(f\"\"\"ATTACH '{sqlite_path}' (TYPE sqlite); SELECT * FROM igem_parts_registry.parts;\"\"\")\n",
    "    return True"
   ]
  },
  {
   "cell_type": "code",
   "execution_count": null,
   "id": "f54afbea-e0a5-48eb-83a3-0666acffa227",
   "metadata": {},
   "outputs": [],
   "source": [
    "def load_parts_table(db: str = \"duck.db\", sqlite_path: str = \"data/raw/igem_parts_registry.sqlite\"):\n",
    "    with duckdb.connect(db) as conn:        \n",
    "        try:\n",
    "            df_parts = duckdb.sql(f\"ATTACH '{sqlite_path}' (TYPE sqlite); SELECT * FROM igem_parts_registry.parts\").df()\n",
    "        except duckdb.duckdb.BinderException:\n",
    "            df_parts = duckdb.sql(f\"SELECT * FROM igem_parts_registry.parts\").df()\n",
    "    return df_parts\n",
    "\n",
    "def query_part(query):\n",
    "    condition = df_parts[\"part_name\"] == query\n",
    "    return df_parts[condition]\n",
    "\n",
    "def main(query_name, df_parts, G):\n",
    "\n",
    "    result = query_part(query_name)\n",
    "    assert len(result) == 1\n",
    "    query_id = str(result['part_id'].values[0])\n",
    "    # Get all first-degree connections (neighbors)\n",
    "    first_degree_connections = list(G.neighbors(str(query_id)))\n",
    "    subgraph = G.subgraph(first_degree_connections + [query_id])\n",
    "    \n",
    "    # Create a new Pyvis network\n",
    "    net = Network(notebook=False)\n",
    "    \n",
    "    # Add the subgraph to the Pyvis network\n",
    "    net.from_nx(subgraph)\n",
    "    \n",
    "    # Draw the graph to an HTML file\n",
    "    return net"
   ]
  },
  {
   "cell_type": "code",
   "execution_count": null,
   "id": "bf2b4950-2e84-43d6-a821-b5b68c938d99",
   "metadata": {},
   "outputs": [],
   "source": [
    "graphml_path=\"../data/interim/parts_network.graphml\"\n",
    "df_parts = load_parts_table(sqlite_path=\"../data/raw/igem_parts_registry.sqlite\")\n",
    "G = nx.read_graphml(graphml_path)"
   ]
  },
  {
   "cell_type": "code",
   "execution_count": null,
   "id": "0ac384f7-b6d0-45fc-b337-921a13c16ccd",
   "metadata": {},
   "outputs": [],
   "source": [
    "query_name = \"BBa_K3085004\"\n",
    "net = main(query_name, df_parts, G)\n",
    "net.show('subgraph.html', notebook=False)"
   ]
  },
  {
   "cell_type": "code",
   "execution_count": null,
   "id": "f1afcf9a-6db6-4baa-97a7-838edff10b53",
   "metadata": {},
   "outputs": [],
   "source": [
    "load_file(sqlite_path=\"../data/raw/igem_parts_registry.sqlite\")"
   ]
  },
  {
   "cell_type": "code",
   "execution_count": null,
   "id": "3f789e0b-8314-4dc9-b25f-10c6122f3b7d",
   "metadata": {},
   "outputs": [],
   "source": [
    "%%bash\n",
    "ls -lah duck.db"
   ]
  },
  {
   "cell_type": "code",
   "execution_count": null,
   "id": "da0245e8-6cf1-4a4f-9ab7-837fd61371b7",
   "metadata": {},
   "outputs": [],
   "source": []
  }
 ],
 "metadata": {
  "kernelspec": {
   "display_name": "Python 3 (ipykernel)",
   "language": "python",
   "name": "python3"
  },
  "language_info": {
   "codemirror_mode": {
    "name": "ipython",
    "version": 3
   },
   "file_extension": ".py",
   "mimetype": "text/x-python",
   "name": "python",
   "nbconvert_exporter": "python",
   "pygments_lexer": "ipython3",
   "version": "3.11.6"
  }
 },
 "nbformat": 4,
 "nbformat_minor": 5
}
